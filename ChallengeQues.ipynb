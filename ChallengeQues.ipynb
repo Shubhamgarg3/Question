{
  "nbformat": 4,
  "nbformat_minor": 0,
  "metadata": {
    "colab": {
      "provenance": [],
      "authorship_tag": "ABX9TyPglzztmWWU9a2NpjNtKqjU",
      "include_colab_link": true
    },
    "kernelspec": {
      "name": "python3",
      "display_name": "Python 3"
    },
    "language_info": {
      "name": "python"
    }
  },
  "cells": [
    {
      "cell_type": "markdown",
      "metadata": {
        "id": "view-in-github",
        "colab_type": "text"
      },
      "source": [
        "<a href=\"https://colab.research.google.com/github/Harsharan0212/ChallengeQuestion/blob/main/ChallengeQues.ipynb\" target=\"_parent\"><img src=\"https://colab.research.google.com/assets/colab-badge.svg\" alt=\"Open In Colab\"/></a>"
      ]
    },
    {
      "cell_type": "markdown",
      "source": [
        "--------------------------------\n",
        "##A Program in python to sort a heterogeneous data.\n",
        "-------------------------------"
      ],
      "metadata": {
        "id": "3AVPYpSR91VQ"
      }
    },
    {
      "cell_type": "code",
      "execution_count": 1,
      "metadata": {
        "colab": {
          "base_uri": "https://localhost:8080/"
        },
        "id": "p6qFUkAX9IeY",
        "outputId": "1ec9df83-8bdd-46d8-99bf-8b9af0e4aee3"
      },
      "outputs": [
        {
          "output_type": "stream",
          "name": "stdout",
          "text": [
            "Unsorted list is  ['Ram', 1, 'Shyam', 2, 'Aman', 3]\n",
            "The sorted list is  ['1', '2', '3', 'Aman', 'Ram', 'Shyam']\n"
          ]
        }
      ],
      "source": [
        "L = [\"Ram\", 1, \"Shyam\", 2, \"Aman\", 3]\n",
        "print(\"Unsorted list is \",L)\n",
        "\n",
        "L=[str(item) for item in L]\n",
        "L.sort()\n",
        "\n",
        "print(\"The sorted list is \",L)"
      ]
    }
  ]
}